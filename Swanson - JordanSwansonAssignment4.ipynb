{
 "cells": [
  {
   "cell_type": "markdown",
   "id": "5423994e-da52-4dc5-993d-9118509e4823",
   "metadata": {},
   "source": [
    "## DATA623 Assignment 4\n",
    "#### Jordan Swanson 10005366"
   ]
  },
  {
   "cell_type": "code",
   "execution_count": 1,
   "id": "cc704f90-c968-46a3-ae59-2a129cfed8a5",
   "metadata": {},
   "outputs": [],
   "source": [
    "import pandas as pd\n",
    "import numpy as np\n",
    "import matplotlib.pyplot as plt\n",
    "from statsmodels.stats.proportion import proportions_ztest"
   ]
  },
  {
   "cell_type": "markdown",
   "id": "4a0d0e8d-e0fd-47db-8334-684a98ec7d27",
   "metadata": {},
   "source": [
    "## Introduction\n",
    "The first step in approaching this question was to retrieve the original data and the paper published from it [1] and using the source to answer one of the provided questions for the assignment. The question I've chosen to answer is **Is there a difference in the outcome (i.e. acute ischemic stroke) between the aspirin and high heparin groups?** Right away we can import the data data into pandas and check to see how much data we're working with:"
   ]
  },
  {
   "cell_type": "code",
   "execution_count": 2,
   "id": "d455d2e0-f4c9-4e28-a989-5673f4600cb4",
   "metadata": {},
   "outputs": [
    {
     "data": {
      "text/plain": [
       "(19435, 112)"
      ]
     },
     "execution_count": 2,
     "metadata": {},
     "output_type": "execute_result"
    }
   ],
   "source": [
    "data = pd.read_csv('IST_corrected.csv', encoding='latin', low_memory=False)\n",
    "data.shape"
   ]
  },
  {
   "cell_type": "markdown",
   "id": "f1b29b57-ca58-4f62-8ac0-08b541067b04",
   "metadata": {},
   "source": [
    "## Methods\n",
    "We have 19,435 rows, which is great, as that's the exact same number that's mentioned in the paper title. We also have 112 columns of data, but to answer our question we only need a few, so we'll focus on those instead and use the `IST_variables.csv` file to guide us as to which variables to use. We'll want whatever demographic data we have the subjects including knowing if they were hospitalized due to ischemic stroke, as well as the codings to know which group they were randomized to. Finally, we'll need information on the target outcome, which for simplicity for this analysis we'll consider death at either 14 days or 6 months:\n",
    "\n",
    "SEX: M=male; F=female <br>\n",
    "AGE: Age in years <br>\n",
    "DDIAGISC: Ischaemic stroke <br>\n",
    "RXASP: Trial aspirin allocated (Y/N) <br>\n",
    "RXHEP: Trial heparin allocated (M/L/N) [M is coded as H=high in pilot] <br>\n",
    "ID14: Indicator of death at 14 days <br>\n",
    "OCCODE: Six month outcome (1-dead/2-dependent/3-not recovered/4-recovered/8 or 9 – missing status <br>"
   ]
  },
  {
   "cell_type": "code",
   "execution_count": 3,
   "id": "19722fe4-a712-4b78-b4fc-c09566357947",
   "metadata": {},
   "outputs": [],
   "source": [
    "data = data[data['DDIAGISC'] == 'Y'][['SEX', 'AGE', 'RXASP', 'RXHEP', 'ID14', 'OCCODE']]"
   ]
  },
  {
   "cell_type": "markdown",
   "id": "6abee714-7394-46fb-85a5-f258751da3e9",
   "metadata": {},
   "source": [
    "However, for us to really make a fair judgement of the two groups we're looking at, we need to acknowledge how the study was designed. As a factorial study design, patients could be in one of two levels of treatment with aspirin (Yes or No), and simultaneously be in one of three treatment levels for heparin (No, Low, High). That's a total of six possible treatment groups, and to isolate the effect of the treatments in question, we'll reduce our dataset to just two: aspirin with **no** heparin, and high heparin with **no** aspirin, which we'll also denote as Group A and Group B, respectively.\n",
    "\n",
    "To filter our data, we'll have to include only patients who meet *both* of the above criteria for each group, as well as ensure that we have data about the patient at the 6 month mark (if applicable):"
   ]
  },
  {
   "cell_type": "code",
   "execution_count": 4,
   "id": "8279ce4c-8d45-47a2-8a57-c77820f7fa96",
   "metadata": {},
   "outputs": [],
   "source": [
    "dataA = data[(data['RXASP'] == 'Y') & (data['RXHEP'] == 'N') & (~data['OCCODE'].isin([8,9]))]\n",
    "dataB = data[(data['RXHEP'].isin(['H', 'M'])) & (data['RXASP'] == 'N') & (~data['OCCODE'].isin([8,9]))]"
   ]
  },
  {
   "cell_type": "markdown",
   "id": "eeb69028-b5af-4ec8-afe0-c2dfdd9e6014",
   "metadata": {},
   "source": [
    "## Results\n",
    "We can quickly see that the two groups are remarkably similar in the distribution of the ages of the patients, though Group B contains only around half as many patients as Group A, as well as a slightly higher proportion of male patients:"
   ]
  },
  {
   "cell_type": "code",
   "execution_count": 5,
   "id": "e5a6fb05-841b-41cf-8612-06af704c2f47",
   "metadata": {},
   "outputs": [
    {
     "name": "stdout",
     "output_type": "stream",
     "text": [
      "Group A age descriptives\n"
     ]
    },
    {
     "data": {
      "text/plain": [
       "count    4316.000000\n",
       "mean       71.506024\n",
       "std        11.580829\n",
       "min        25.000000\n",
       "25%        65.000000\n",
       "50%        73.000000\n",
       "75%        80.000000\n",
       "max        98.000000\n",
       "Name: AGE, dtype: float64"
      ]
     },
     "metadata": {},
     "output_type": "display_data"
    },
    {
     "name": "stdout",
     "output_type": "stream",
     "text": [
      "\n",
      "Group A sex breakdown\n"
     ]
    },
    {
     "data": {
      "text/plain": [
       "M    0.529425\n",
       "F    0.470575\n",
       "Name: SEX, dtype: float64"
      ]
     },
     "metadata": {},
     "output_type": "display_data"
    },
    {
     "name": "stdout",
     "output_type": "stream",
     "text": [
      "\n",
      "Group B age descriptives\n"
     ]
    },
    {
     "data": {
      "text/plain": [
       "count    2181.000000\n",
       "mean       71.516277\n",
       "std        11.293025\n",
       "min        16.000000\n",
       "25%        65.000000\n",
       "50%        73.000000\n",
       "75%        80.000000\n",
       "max        98.000000\n",
       "Name: AGE, dtype: float64"
      ]
     },
     "metadata": {},
     "output_type": "display_data"
    },
    {
     "name": "stdout",
     "output_type": "stream",
     "text": [
      "\n",
      "Group B sex breakdown\n"
     ]
    },
    {
     "data": {
      "text/plain": [
       "M    0.552499\n",
       "F    0.447501\n",
       "Name: SEX, dtype: float64"
      ]
     },
     "metadata": {},
     "output_type": "display_data"
    }
   ],
   "source": [
    "print('Group A age descriptives')\n",
    "display(dataA['AGE'].describe())\n",
    "print('\\nGroup A sex breakdown')\n",
    "display(dataA['SEX'].value_counts(normalize=True))\n",
    "print('\\nGroup B age descriptives')\n",
    "display(dataB['AGE'].describe())\n",
    "print('\\nGroup B sex breakdown')\n",
    "display(dataB['SEX'].value_counts(normalize=True))"
   ]
  },
  {
   "cell_type": "markdown",
   "id": "c6d3518c-86bd-4e99-a202-8af6c362a282",
   "metadata": {},
   "source": [
    "## Analysis"
   ]
  },
  {
   "cell_type": "markdown",
   "id": "5d6c0aaf-dc0a-4079-b3d6-542727516491",
   "metadata": {},
   "source": [
    "Our first step will be to compare the 14-day survival between the two groups. As this is coded in our data as a binary variable, with 1 being death and 0 being alive, we can compare the proportion of death between the two groups with a two-sample *Z* test at $\\alpha=0.05$:\n",
    "\n",
    "*$H_0$*: The two groups have similar proportions of death at 14 days<br>\n",
    "*$H_a$*: The two groups differ in their proportion of death at 14 days\n"
   ]
  },
  {
   "cell_type": "code",
   "execution_count": 6,
   "id": "df396e9e-26a0-47f3-9cd9-daaccf028605",
   "metadata": {},
   "outputs": [
    {
     "name": "stdout",
     "output_type": "stream",
     "text": [
      "The Z-test of different proportions has a p-value of 0.9252\n"
     ]
    }
   ],
   "source": [
    "deathA14, sizeA14 = dataA['ID14'].sum(), len(dataA['ID14'])\n",
    "deathB14, sizeB14 = dataB['ID14'].sum(), len(dataB['ID14'])\n",
    "deaths14 = np.array([deathA14, deathB14])\n",
    "samples14 = np.array([sizeA14, sizeB14])\n",
    "stat14, pval14 = proportions_ztest(deaths14, samples14, alternative='two-sided')\n",
    "\n",
    "print(f'The Z-test of different proportions has a p-value of {round(pval14, 4)}')"
   ]
  },
  {
   "cell_type": "markdown",
   "id": "3ada19ae-8aa4-4779-87a2-7a5cf6ad7fe6",
   "metadata": {},
   "source": [
    "As we can see from above, the two groups are extremely similar in the proportion of death at 14 days, and no discernible difference can be found. \n",
    "<br>\n",
    "The secondary outcome we're interested in is the incidence of death at 6 months following initial hospitalization. To do that, we'll use the same statistical test for the 6-month follow-up ($\\alpha=0.05$):\n",
    "\n",
    "*$H_0$*: The two groups have similar proportions of death by the 6 month follow-up<br>\n",
    "*$H_a$*: The two groups differ in their proportion of death at the 6 month follow-up"
   ]
  },
  {
   "cell_type": "code",
   "execution_count": 7,
   "id": "a68a1ca5-dbb5-471a-b0d1-eeafbedb6311",
   "metadata": {},
   "outputs": [
    {
     "name": "stdout",
     "output_type": "stream",
     "text": [
      "The Z-test of different proportions has a p-value of 0.0\n"
     ]
    }
   ],
   "source": [
    "# The data for 6-months is coded such that while there's only one value for death, there are three other outcomes that are not death\n",
    "# We've already removed values for missing data, so all non-death values can be lumped together as such:\n",
    "deathA6, sizeA6 = dataA[dataA['OCCODE']==1]['OCCODE'].count(), len(dataA['ID14'])\n",
    "deathB6, sizeB6 = dataB[dataB['OCCODE']!=1]['OCCODE'].count(), len(dataB['ID14'])\n",
    "deaths6 = np.array([deathA6, deathB6])\n",
    "samples6 = np.array([sizeA6, sizeB6])\n",
    "stat6, pval6 = proportions_ztest(deaths6, samples6, alternative='two-sided')\n",
    "\n",
    "print(f'The Z-test of different proportions has a p-value of {pval6}')"
   ]
  },
  {
   "cell_type": "markdown",
   "id": "3155afc8-3325-4851-af97-46200bf0f3c9",
   "metadata": {},
   "source": [
    "As seen above, the *p*-value is vanishingly small (<0.00001), so we have sufficient evidence to reject the null hypothesis of no difference, and accept that there's a significant difference between the groups. The proportions at 6 months:"
   ]
  },
  {
   "cell_type": "code",
   "execution_count": 10,
   "id": "fbff87d8-c248-41e6-beab-8592f5a11e69",
   "metadata": {},
   "outputs": [
    {
     "name": "stdout",
     "output_type": "stream",
     "text": [
      "Group A proportion of death by 6 months: 0.2023\n",
      "Group B proportion of death by 6 months: 0.7822\n"
     ]
    }
   ],
   "source": [
    "print(f'Group A proportion of death by 6 months: {round(deathA6 / sizeA6, 4)}')\n",
    "print(f'Group B proportion of death by 6 months: {round(deathB6 / sizeB6, 4)}')"
   ]
  },
  {
   "cell_type": "markdown",
   "id": "533562fd-de8e-47b4-b127-5ab0d1a9b0dd",
   "metadata": {},
   "source": [
    "## Conclusion\n",
    "\n",
    "With the significant two-sample proportional *Z*-test, we can conclude that the two groups have a significant difference in the proportion of death at 6 months. Though there's no detectable difference at the 14-day mark, it would appear that **ischemic stroke patients who are treated with aspirin alone (Group A) have a higher survivability rate at 6 months than those who undergo treatment with high doses of heparin (Group B).** Importantly, though the original study had more groupings for the participants, they too arrived at the same conclusion [1]."
   ]
  },
  {
   "cell_type": "markdown",
   "id": "c0716407-73cf-47b0-a470-be621aba84e7",
   "metadata": {},
   "source": [
    "### References\n",
    "1. International Stroke Trial Collaborative Group. (1997). The International Stroke Trial (IST): a randomised trial of aspirin, subcutaneous heparin, both, or neither among 19 435 patients with acute ischaemic stroke. *The Lancet* 349, 1569-1581. https://doi.org/10.1016/S0140-6736(97)04011-7"
   ]
  }
 ],
 "metadata": {
  "kernelspec": {
   "display_name": "Python 3 (ipykernel)",
   "language": "python",
   "name": "python3"
  },
  "language_info": {
   "codemirror_mode": {
    "name": "ipython",
    "version": 3
   },
   "file_extension": ".py",
   "mimetype": "text/x-python",
   "name": "python",
   "nbconvert_exporter": "python",
   "pygments_lexer": "ipython3",
   "version": "3.8.12"
  }
 },
 "nbformat": 4,
 "nbformat_minor": 5
}
